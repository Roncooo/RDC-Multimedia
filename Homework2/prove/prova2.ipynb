{
 "cells": [
  {
   "cell_type": "code",
   "execution_count": 11,
   "metadata": {},
   "outputs": [
    {
     "name": "stdout",
     "output_type": "stream",
     "text": [
      "Main program started.\n",
      "Process created.\n",
      "Process started.\n",
      "Process finished with exit code 1.\n",
      "Main program continues after the process has finished.\n"
     ]
    }
   ],
   "source": [
    "import multiprocessing\n",
    "import time\n",
    "\n",
    "def slow_function():\n",
    "    print(\"Starting slow function...\")\n",
    "    time.sleep(1)  # Simulating a slow operation\n",
    "    print(\"Slow function completed.\")\n",
    "\n",
    "if __name__ == '__main__':\n",
    "    print(\"Main program started.\")\n",
    "    \n",
    "    process = multiprocessing.Process(target=slow_function, args=())\n",
    "    print(\"Process created.\")\n",
    "    \n",
    "    process.start()  # This starts the slow_function in a new process\n",
    "    print(\"Process started.\")\n",
    "    \n",
    "    time.sleep(5)  # Simulating a slow operation\n",
    "    process.join()  # This will block the main process until the child process finishes\n",
    "    print(f\"Process finished with exit code {process.exitcode}.\")\n",
    "    \n",
    "    print(\"Main program continues after the process has finished.\")\n"
   ]
  }
 ],
 "metadata": {
  "kernelspec": {
   "display_name": "Python 3",
   "language": "python",
   "name": "python3"
  },
  "language_info": {
   "codemirror_mode": {
    "name": "ipython",
    "version": 3
   },
   "file_extension": ".py",
   "mimetype": "text/x-python",
   "name": "python",
   "nbconvert_exporter": "python",
   "pygments_lexer": "ipython3",
   "version": "3.11.9"
  }
 },
 "nbformat": 4,
 "nbformat_minor": 2
}
